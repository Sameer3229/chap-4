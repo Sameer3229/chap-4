{
 "cells": [
  {
   "cell_type": "markdown",
   "metadata": {},
   "source": [
    "# SAMEER BIN IMRAN (19B-131-SE) CHAP 4"
   ]
  },
  {
   "cell_type": "code",
   "execution_count": 34,
   "metadata": {},
   "outputs": [
    {
     "name": "stdout",
     "output_type": "stream",
     "text": [
      "234 \n",
      " 78 \n",
      " 1234567 \n",
      " 0123 \n",
      " 789\n"
     ]
    }
   ],
   "source": [
    "#exercise 4.1\n",
    "s = '0123456789'\n",
    "a = s[2:5]\n",
    "b = s[7:9]\n",
    "c = s[1:8]\n",
    "d = s[:4]\n",
    "e = s[7:]\n",
    "print(a, '\\n',b,'\\n',c,'\\n',d,'\\n',e)"
   ]
  },
  {
   "cell_type": "code",
   "execution_count": 43,
   "metadata": {},
   "outputs": [
    {
     "name": "stdout",
     "output_type": "stream",
     "text": [
      "2 \n",
      " 13 \n",
      " it will be a cloudy day today\n"
     ]
    }
   ],
   "source": [
    "#exercise 4.2\n",
    "s = 'it will be a sunny day today'\n",
    "count = s.count('day')\n",
    "weather = s.find('sunny')\n",
    "change = s.replace('sunny','cloudy')\n",
    "print(count,'\\n',weather,'\\n',change)"
   ]
  },
  {
   "cell_type": "code",
   "execution_count": 50,
   "metadata": {},
   "outputs": [
    {
     "name": "stdout",
     "output_type": "stream",
     "text": [
      "2, 3, 4, 6, "
     ]
    }
   ],
   "source": [
    "#exercise 4.4\n",
    "def rangee(n):\n",
    "    for i in range(2, n+1):\n",
    "        if i%2 == 0 or i%3 ==0:\n",
    "            print(i,end=', ')\n",
    "rangee(6)\n",
    "        "
   ]
  },
  {
   "cell_type": "code",
   "execution_count": 51,
   "metadata": {},
   "outputs": [
    {
     "name": "stdout",
     "output_type": "stream",
     "text": [
      "sameer\tbin\timran\n"
     ]
    }
   ],
   "source": [
    "#exercise 4.3\n",
    "first = 'sameer'\n",
    "middle = 'bin'\n",
    "last = 'imran'\n",
    "print(first,middle,last, sep='\\t')"
   ]
  },
  {
   "cell_type": "code",
   "execution_count": 55,
   "metadata": {},
   "outputs": [
    {
     "name": "stdout",
     "output_type": "stream",
     "text": [
      "sameer bin imran\n",
      "301 karachi\n",
      "sindh, \n",
      "03360339564 \n"
     ]
    }
   ],
   "source": [
    "#exercise 4.5\n",
    "first = 'sameer'\n",
    "last = 'bin imran'\n",
    "number = '03360339564'\n",
    "street = '301'\n",
    "city = 'karachi'\n",
    "state = 'sindh'\n",
    "fstring = '{0} {1}\\n{3} {4}\\n{5}, \\n{2} '\n",
    "print(fstring.format(first,last,number,street,city,state))"
   ]
  },
  {
   "cell_type": "code",
   "execution_count": 56,
   "metadata": {},
   "outputs": [
    {
     "name": "stdout",
     "output_type": "stream",
     "text": [
      "DeMoines  jim       Sophomore     3.45\n",
      "Pierre    Sophie    Sophomore     4.00\n",
      "Columbus  Maria     Senior        2.50\n",
      "Pheonix   River     Jumior        2.45\n",
      "Olympus   Edgar     junior        3.99\n"
     ]
    }
   ],
   "source": [
    "#4.6\n",
    "def roster(students):\n",
    "    \"print the average grade for the roaster of students\"\n",
    "    for student in students: \n",
    "        print(\"{:10}{:10}{:10}{:8.2f}\".format(student[0],student[1],student[2],student[3]))\n",
    "    \n",
    "students=[]\n",
    "students.append([\"DeMoines\",\"jim\",\"Sophomore\",3.45])\n",
    "students.append([\"Pierre\",\"Sophie\",\"Sophomore\",4.0])\n",
    "students.append([\"Columbus\",\"Maria\",\"Senior\",2.5])\n",
    "students.append([\"Pheonix\",\"River\",\"Jumior\",2.45])\n",
    "students.append([\"Olympus\",\"Edgar\",\"junior\",3.99])\n",
    "roster(students)"
   ]
  },
  {
   "cell_type": "code",
   "execution_count": 66,
   "metadata": {},
   "outputs": [
    {
     "name": "stdout",
     "output_type": "stream",
     "text": [
      "'Thusday, July 13 2017'\n",
      "06:37 AM central daylight time on 06/December/19\n",
      "I will meet you on Friday 37 06 at 06:37 AM\n"
     ]
    }
   ],
   "source": [
    "#4.7\n",
    "import time\n",
    "t=time.localtime(1500000000)\n",
    "weekday=\"Thusday\"\n",
    "month=\"July\"\n",
    "day=13\n",
    "year=2017\n",
    "print(time.strftime(\"'{}, {} {} {}'\").format(weekday,month,day,year))\n",
    "print(time.strftime(\"%I:%M %p central daylight time on %d/%B/%y\",time.localtime()))\n",
    "print(time.strftime(\"I will meet you on %A %M %d at %I:%M %p\",time.localtime()))"
   ]
  },
  {
   "cell_type": "code",
   "execution_count": 58,
   "metadata": {},
   "outputs": [
    {
     "name": "stdout",
     "output_type": "stream",
     "text": [
      "2\n"
     ]
    }
   ],
   "source": [
    "#4.8\n",
    "def stringcount(filename,target):\n",
    "    \"returns the number of occurence of target in file filename\"\n",
    "    infile=open(filename)\n",
    "    content=infile.read()\n",
    "    infile.close()\n",
    "    return content.count(target)\n",
    "print(stringcount(\"example.txt\",\"is\"))"
   ]
  },
  {
   "cell_type": "code",
   "execution_count": 59,
   "metadata": {},
   "outputs": [
    {
     "name": "stdout",
     "output_type": "stream",
     "text": [
      "['my', 'name', 'is', 'sameer', 'bin', 'imran', 'i', 'am', 'from', 'tcf', 'college', 'my', 'father', 'name', 'is', 'imran']\n"
     ]
    }
   ],
   "source": [
    "#4.9\n",
    "def words(filename):\n",
    "    \"returns the list of words in the file filename\"\n",
    "    infile=open(filename,\"r\")\n",
    "    content=infile.read()\n",
    "    infile.close()\n",
    "    table=str.maketrans('!,.:;?',6*' ')\n",
    "    content=content.translate(table)\n",
    "    content=content.lower()\n",
    "    return content.split()\n",
    "print(words(\"example.txt\"))"
   ]
  },
  {
   "cell_type": "code",
   "execution_count": 60,
   "metadata": {},
   "outputs": [
    {
     "name": "stdout",
     "output_type": "stream",
     "text": [
      "my name is sameer bin imran. i am from TCF College. my Father name is Imran.\n"
     ]
    }
   ],
   "source": [
    "#4.10\n",
    "def myGrep(filename,target):\n",
    "    \"it will print the target of the string line\"\n",
    "    infile=open(filename)\n",
    "    for line in infile:\n",
    "        if target in line:\n",
    "            print(line,end=\"\")\n",
    "    return\"\"\n",
    "print(myGrep(\"example.txt\",\"is\"))"
   ]
  },
  {
   "cell_type": "code",
   "execution_count": 61,
   "metadata": {},
   "outputs": [
    {
     "name": "stdout",
     "output_type": "stream",
     "text": [
      "7\n",
      "hello\n",
      "[4, 5, 6]\n",
      "0\n",
      "1\n",
      "2\n",
      "3\n",
      "4\n",
      "5\n",
      "6\n",
      "7\n",
      "8\n",
      "9\n"
     ]
    }
   ],
   "source": [
    "#4.11\n",
    "print((3+4)or[3+4])\n",
    "print(\"hello\")\n",
    "lst=[4,5,6]\n",
    "print(lst)\n",
    "for i in range (10):\n",
    "    print(i)"
   ]
  },
  {
   "cell_type": "code",
   "execution_count": 62,
   "metadata": {},
   "outputs": [
    {
     "name": "stdout",
     "output_type": "stream",
     "text": [
      "bcd\n",
      "abc\n",
      "defghijklmnopqrstuvwx\n",
      "wxy\n",
      "wxyz\n"
     ]
    }
   ],
   "source": [
    "#4.12\n",
    "s=\"abcdefghijklmnopqrstuvwxyz\"\n",
    "print(s[1:4])\n",
    "print(s[0:3])\n",
    "print(s[3:24])\n",
    "print(s[22:25])\n",
    "print(s[22:])"
   ]
  },
  {
   "cell_type": "code",
   "execution_count": 63,
   "metadata": {},
   "outputs": [
    {
     "name": "stdout",
     "output_type": "stream",
     "text": [
      "bc\n",
      "abcdefghijklmn\n",
      "opqrstuvwxyz\n",
      "bcdefghijklmnopqrstuvwxy\n"
     ]
    }
   ],
   "source": [
    "#4.13\n",
    "s=\"abcdefghijklmnopqrstuvwxyz\"\n",
    "print(s[1:3])\n",
    "print(s[:14])\n",
    "print(s[14:])\n",
    "print(s[1:-1])"
   ]
  },
  {
   "cell_type": "code",
   "execution_count": 64,
   "metadata": {},
   "outputs": [
    {
     "name": "stdout",
     "output_type": "stream",
     "text": [
      "128.0.0.1--[12/Feb/2011:10:31:08-0600]\"GET/docs/test.txt HTTP/1.0\"\n",
      "128.0.0.1--[12/Feb/2011:10:31:08-0600]\"GET/docs/test.txt\n",
      "12/Feb/2011:10:31:08-0600\n"
     ]
    }
   ],
   "source": [
    "#4.14\n",
    "log='128.0.0.1--[12/Feb/2011:10:31:08-0600]\"GET/docs/test.txt HTTP/1.0\"'\n",
    "address=log.split()[0]\n",
    "data=log[log.find(\"[\")+1:log.find(\"]\")]\n",
    "print(log)\n",
    "print(address)\n",
    "print(data)"
   ]
  },
  {
   "cell_type": "code",
   "execution_count": 65,
   "metadata": {},
   "outputs": [
    {
     "name": "stdout",
     "output_type": "stream",
     "text": [
      "10\t20\t30\t40\t50\t60\t\n",
      "\n",
      "10-20-30-40-50-60-\n",
      "\n",
      "10&20&30&40&50&60&\n",
      "\n",
      "10,20,30,40,50,60,"
     ]
    }
   ],
   "source": [
    "#4.15\n",
    "s=['10','20','30','40','50','60']\n",
    "for i in s:\n",
    "    print(i,end=\"\\t\")\n",
    "print(\"\\n\")\n",
    "for i in s:\n",
    "    print(i,end=\"-\")\n",
    "print(\"\\n\")  \n",
    "for i in s:\n",
    "    print(i,end=\"&\")\n",
    "print(\"\\n\")\n",
    "for i in s:\n",
    "    print(i,end=\",\")"
   ]
  },
  {
   "cell_type": "code",
   "execution_count": 20,
   "metadata": {},
   "outputs": [
    {
     "name": "stdout",
     "output_type": "stream",
     "text": [
      "the first word: ali\n",
      "the second word: burhan\n",
      "the third word: sameer\n",
      "True\n"
     ]
    }
   ],
   "source": [
    "#exercise 4.16\n",
    "a = input('the first word: ')\n",
    "b = input('the second word: ')\n",
    "c = input('the third word: ')\n",
    "if a<b<c:\n",
    "    print('True')"
   ]
  },
  {
   "cell_type": "code",
   "execution_count": 17,
   "metadata": {},
   "outputs": [
    {
     "name": "stdout",
     "output_type": "stream",
     "text": [
      "length \n",
      " 44 count \n",
      " 2 replace \n",
      " the xxxxxx of this book is that it is xxxxxx\n"
     ]
    }
   ],
   "source": [
    "#exercise 4.17\n",
    "message = 'the secret of this book is that it is secret'\n",
    "length = len(message)\n",
    "count = message.count('secret')\n",
    "replace = message.replace('secret','xxxxxx')\n",
    "print(\"length \\n\",length,\"count \\n\",count,\"replace \\n\",replace)"
   ]
  },
  {
   "cell_type": "code",
   "execution_count": 31,
   "metadata": {},
   "outputs": [
    {
     "name": "stdout",
     "output_type": "stream",
     "text": [
      "\"it was the best of time  it was the worst of times  it was the age of wisdome  it was the age of foolishness  it was the epoch of belief  it was the epoch of incredulity  it was    \"\n"
     ]
    }
   ],
   "source": [
    "#exercise 4.18\n",
    "s = '\"it was the best of time, it was the worst of times; it was the age of wisdome, it was the age of foolishness; it was the epoch of belief, it was the epoch of incredulity; it was ...\"'\n",
    "table = str.maketrans(';.,\\n','    ')\n",
    "newS = s.translate(table)\n",
    "print(newS)\n"
   ]
  },
  {
   "cell_type": "code",
   "execution_count": 45,
   "metadata": {},
   "outputs": [
    {
     "name": "stdout",
     "output_type": "stream",
     "text": [
      "\n"
     ]
    }
   ],
   "source": [
    "NewS = newS.strip()\n",
    "print(NewS)"
   ]
  },
  {
   "cell_type": "code",
   "execution_count": 42,
   "metadata": {},
   "outputs": [
    {
     "name": "stdout",
     "output_type": "stream",
     "text": [
      "\n"
     ]
    }
   ],
   "source": [
    "new = newS.lower()\n",
    "print(new)"
   ]
  },
  {
   "cell_type": "code",
   "execution_count": 44,
   "metadata": {},
   "outputs": [
    {
     "data": {
      "text/plain": [
       "7"
      ]
     },
     "execution_count": 44,
     "metadata": {},
     "output_type": "execute_result"
    }
   ],
   "source": [
    "s.count(\"it was\")"
   ]
  },
  {
   "cell_type": "code",
   "execution_count": 46,
   "metadata": {},
   "outputs": [
    {
     "data": {
      "text/plain": [
       "'\"it is the best of time, it is the worst of times; it is the age of wisdome, it is the age of foolishness; it is the epoch of belief, it is the epoch of incredulity; it is ...\"'"
      ]
     },
     "execution_count": 46,
     "metadata": {},
     "output_type": "execute_result"
    }
   ],
   "source": [
    "s.replace('was','is')"
   ]
  },
  {
   "cell_type": "code",
   "execution_count": 47,
   "metadata": {},
   "outputs": [
    {
     "name": "stdout",
     "output_type": "stream",
     "text": [
      "['\"it', 'was', 'the', 'best', 'of', 'time,', 'it', 'was', 'the', 'worst', 'of', 'times;', 'it', 'was', 'the', 'age', 'of', 'wisdome,', 'it', 'was', 'the', 'age', 'of', 'foolishness;', 'it', 'was', 'the', 'epoch', 'of', 'belief,', 'it', 'was', 'the', 'epoch', 'of', 'incredulity;', 'it', 'was', '...\"']\n"
     ]
    }
   ],
   "source": [
    "listS=s.split()\n",
    "print(listS)"
   ]
  },
  {
   "cell_type": "code",
   "execution_count": 55,
   "metadata": {},
   "outputs": [
    {
     "data": {
      "text/plain": [
       "'imran,Bin sameer'"
      ]
     },
     "execution_count": 55,
     "metadata": {},
     "output_type": "execute_result"
    }
   ],
   "source": [
    "#exercise 4.19\n",
    "first = 'sameer'\n",
    "last = 'imran'\n",
    "middle = 'Bin'\n",
    "\"{1},{0} {2}\".format(first,middle,last)\n"
   ]
  },
  {
   "cell_type": "code",
   "execution_count": 61,
   "metadata": {},
   "outputs": [
    {
     "data": {
      "text/plain": [
       "'imran,sameer B.'"
      ]
     },
     "execution_count": 61,
     "metadata": {},
     "output_type": "execute_result"
    }
   ],
   "source": [
    "\"{2},{0} {1}.\".format(first,middle[0],last)"
   ]
  },
  {
   "cell_type": "code",
   "execution_count": 63,
   "metadata": {},
   "outputs": [
    {
     "data": {
      "text/plain": [
       "'sameer B. imran'"
      ]
     },
     "execution_count": 63,
     "metadata": {},
     "output_type": "execute_result"
    }
   ],
   "source": [
    "\"{0} {1}. {2}\".format(first,middle[0],last)"
   ]
  },
  {
   "cell_type": "code",
   "execution_count": 64,
   "metadata": {},
   "outputs": [
    {
     "data": {
      "text/plain": [
       "'B.i. sameer'"
      ]
     },
     "execution_count": 64,
     "metadata": {},
     "output_type": "execute_result"
    }
   ],
   "source": [
    "\"{1}.{2}. {0}\".format(first,middle[0],last[0])"
   ]
  },
  {
   "cell_type": "code",
   "execution_count": 68,
   "metadata": {},
   "outputs": [
    {
     "data": {
      "text/plain": [
       "'imran, s.'"
      ]
     },
     "execution_count": 68,
     "metadata": {},
     "output_type": "execute_result"
    }
   ],
   "source": [
    "\"{1}, {0}.\".format(first[0],last)"
   ]
  },
  {
   "cell_type": "code",
   "execution_count": 8,
   "metadata": {},
   "outputs": [
    {
     "data": {
      "text/plain": [
       "'From:tim@abc.com to:tom@xyz.com subject:hello!'"
      ]
     },
     "execution_count": 8,
     "metadata": {},
     "output_type": "execute_result"
    }
   ],
   "source": [
    "#exersice 4.20\n",
    "sender = 'tim@abc.com'\n",
    "recipient = 'tom@xyz.com'\n",
    "subject = 'hello!'\n",
    "'From:{0} to:{1} subject:{2}'.format(sender,recipient,subject)"
   ]
  },
  {
   "cell_type": "code",
   "execution_count": 21,
   "metadata": {},
   "outputs": [
    {
     "data": {
      "text/plain": [
       "'pi=3.1 , e=2.7'"
      ]
     },
     "execution_count": 21,
     "metadata": {},
     "output_type": "execute_result"
    }
   ],
   "source": [
    "#exercise 4.21\n",
    "import math\n",
    "'pi={:1.2} , e={:1.2}'.format(math.pi,math.e)"
   ]
  },
  {
   "cell_type": "code",
   "execution_count": 22,
   "metadata": {},
   "outputs": [
    {
     "data": {
      "text/plain": [
       "'pi=3.14 , e=2.72'"
      ]
     },
     "execution_count": 22,
     "metadata": {},
     "output_type": "execute_result"
    }
   ],
   "source": [
    "'pi={:1.3} , e={:1.3}'.format(math.pi,math.e)"
   ]
  },
  {
   "cell_type": "code",
   "execution_count": 27,
   "metadata": {},
   "outputs": [
    {
     "data": {
      "text/plain": [
       "'pi=3.1415927e+00 , e=2.7182818e+00'"
      ]
     },
     "execution_count": 27,
     "metadata": {},
     "output_type": "execute_result"
    }
   ],
   "source": [
    "'pi={:1.7e} , e={:1.7e}'.format(math.pi,math.e)"
   ]
  },
  {
   "cell_type": "code",
   "execution_count": 28,
   "metadata": {},
   "outputs": [
    {
     "data": {
      "text/plain": [
       "'pi=3.1416 , e=2.7183'"
      ]
     },
     "execution_count": 28,
     "metadata": {},
     "output_type": "execute_result"
    }
   ],
   "source": [
    "'pi={:1.5} , e={:1.5}'.format(math.pi,math.e)"
   ]
  },
  {
   "cell_type": "code",
   "execution_count": 67,
   "metadata": {},
   "outputs": [
    {
     "name": "stdout",
     "output_type": "stream",
     "text": [
      "Feb\n"
     ]
    }
   ],
   "source": [
    "#problem\n",
    "#4.22\n",
    "def month(m):\n",
    "    month={1:\"Jan\",2:\"Feb\",3:\"March\",4:\"April\",5:\"May\",6:\"June\",7:\"July\",8:\"Aug\",9:\"Sep\",10:\"Oct\",11:\"Nov\",12:\"Dec\"}\n",
    "    m=month[m]\n",
    "    return m\n",
    "print(month(2))"
   ]
  },
  {
   "cell_type": "code",
   "execution_count": 68,
   "metadata": {},
   "outputs": [
    {
     "name": "stdout",
     "output_type": "stream",
     "text": [
      "4.0\n"
     ]
    }
   ],
   "source": [
    "#4.23\n",
    "def average(n):\n",
    "    sentence=n\n",
    "    words=sentence.split()\n",
    "    return sum(len(words)for word in words)/len(words)    \n",
    "print(average(\"This is a sentence.\"))"
   ]
  },
  {
   "cell_type": "code",
   "execution_count": 69,
   "metadata": {},
   "outputs": [
    {
     "name": "stdout",
     "output_type": "stream",
     "text": [
      "How do you spell winners?\n",
      "I know, I know!\n",
      "UITIANS\n",
      "And that's how you spell winner!\n",
      "GO uitians!\n",
      "\n"
     ]
    }
   ],
   "source": [
    "#4.24\n",
    "def cheers(name):\n",
    "    print(\"How do you spell winners?\")\n",
    "    print(\"I know, I know!\")\n",
    "    for a in name:\n",
    "        print(a.upper(),end=\"\")\n",
    "    print(\"\\nAnd that's how you spell winner!\")\n",
    "    print(\"GO \"+name+\"!\")\n",
    "    return\"\"\n",
    "print(cheers(\"uitians\"))"
   ]
  },
  {
   "cell_type": "code",
   "execution_count": 70,
   "metadata": {},
   "outputs": [
    {
     "name": "stdout",
     "output_type": "stream",
     "text": [
      "a,e,i,o,and u appear, respectively 1,2,1,2,2\n",
      "\n"
     ]
    }
   ],
   "source": [
    "#4.25\n",
    "def vowelcount(text):\n",
    "    a=text.count(\"a\")\n",
    "    e=text.count(\"e\")\n",
    "    i=text.count(\"i\")\n",
    "    o=text.count(\"o\")\n",
    "    u=text.count(\"u\")\n",
    "    print(\"a,e,i,o,and u appear, respectively {0},{1},{2},{3},{4}\".format(a,e,i,o,u))\n",
    "    return\"\"\n",
    "print(vowelcount(\"i am count number of ten\"))"
   ]
  },
  {
   "cell_type": "code",
   "execution_count": 72,
   "metadata": {},
   "outputs": [
    {
     "name": "stdout",
     "output_type": "stream",
     "text": [
      "\n"
     ]
    }
   ],
   "source": [
    "#4.26 \n",
    "def crypto(filename):\n",
    "\n",
    "    infile=open(filename,\"r\")\n",
    "    content=infile.read()\n",
    "    infile.close()\n",
    "    outfile = open(\"secret1.txt\",\"w\")\n",
    "    content=content.replace(\"secret\",\"xxxxxx\")\n",
    "    outfile.write(content)\n",
    "    outfile.close()\n",
    "    return\"\"\n",
    "print(crypto(\"example.txt\"))"
   ]
  },
  {
   "cell_type": "code",
   "execution_count": 73,
   "metadata": {},
   "outputs": [
    {
     "name": "stdout",
     "output_type": "stream",
     "text": [
      "\n"
     ]
    }
   ],
   "source": [
    "#4.27\n",
    "def fcopy(file1,file2):\n",
    "    infile1 = open(file1,\"r\")\n",
    "    text = infile1.read()\n",
    "    infile1.close()\n",
    "    outfile = open(file2,\"w\")\n",
    "    outfile.write(text)\n",
    "    outfile.close()\n",
    "    return\"\"\n",
    "print(fcopy(\"example.txt\",\"grades.txt\"))"
   ]
  },
  {
   "cell_type": "code",
   "execution_count": null,
   "metadata": {},
   "outputs": [],
   "source": [
    "#4.28\n",
    "def links(file):\n",
    "    infile = open(file,\"r\")\n",
    "    linelist=infile.readlines()\n",
    "    infile.close()\n",
    "    return len(linelist)\n",
    "print(links(\"links.html\"))"
   ]
  },
  {
   "cell_type": "code",
   "execution_count": 11,
   "metadata": {},
   "outputs": [
    {
     "name": "stdout",
     "output_type": "stream",
     "text": [
      "line Count:  1 \n",
      "Word Count:  16 \n",
      "Character Count:  76\n"
     ]
    }
   ],
   "source": [
    "#EXERCISE 4.29\n",
    "def stats(filename):\n",
    "    infile = open(filename,'r')\n",
    "    linelist = infile.readlines()\n",
    "    infile.close()\n",
    "    infile = open(filename,'r')\n",
    "    content = infile.read()\n",
    "    wordlist = content.split()\n",
    "    infile.close()\n",
    "    print(\"line Count: \",len(linelist),\"\\nWord Count: \",len(wordlist),\"\\nCharacter Count: \",len(content))\n",
    "stats(\"example.txt\")"
   ]
  },
  {
   "cell_type": "code",
   "execution_count": 15,
   "metadata": {},
   "outputs": [
    {
     "name": "stdout",
     "output_type": "stream",
     "text": [
      " 3 students got A+\n",
      " 7 students got A\n",
      " 3 students got B+\n",
      " 5 students got B\n",
      " 4 students got C+\n",
      " 4 students got C\n",
      " 4 students got F\n",
      "\n"
     ]
    }
   ],
   "source": [
    "#eercise 4.30\n",
    "def distribution(filename):\n",
    "    A1=0\n",
    "    A=0\n",
    "    B1=0\n",
    "    B=0\n",
    "    C1=0\n",
    "    C=0\n",
    "    F=0\n",
    "    infile = open(filename,'r')\n",
    "    content = infile.read()\n",
    "    infile.close()\n",
    "    wordlist = content.split()\n",
    "    for i in wordlist:\n",
    "        if i == \"A+\":\n",
    "            A1 = A1+1\n",
    "        elif i == \"A\":\n",
    "            A = A+1\n",
    "        elif i == \"B+\":\n",
    "            B1 = B1+1\n",
    "        elif i == \"B\":\n",
    "            B = B+1\n",
    "        elif i == \"C+\":\n",
    "            C1 =C1 +1\n",
    "        elif i == \"C\":\n",
    "            C =C+1\n",
    "        elif i == \"F\":\n",
    "            F = F+1\n",
    "    print(\"\",A1,\"students got A+\\n\",A,\"students got A\\n\",B1,\"students got B+\\n\",B,\"students got B\\n\",C1,\"students got C+\\n\",C,\"students got C\\n\",F,\"students got F\\n\")\n",
    "distribution(\"grades.txt\")    "
   ]
  },
  {
   "cell_type": "code",
   "execution_count": 8,
   "metadata": {},
   "outputs": [
    {
     "data": {
      "text/plain": [
       "True"
      ]
     },
     "execution_count": 8,
     "metadata": {},
     "output_type": "execute_result"
    }
   ],
   "source": [
    "\n",
    "#exercise 4.31\n",
    "def duplicate(filename):\n",
    "    infile = open(filename,'r')\n",
    "    content = infile.read()\n",
    "    wordlist = content.split()\n",
    "    for i in wordlist:\n",
    "        wordlist.remove(i)\n",
    "        if i in wordlist:\n",
    "            return True\n",
    "        else:\n",
    "            return False\n",
    "duplicate(\"example.txt\")"
   ]
  },
  {
   "cell_type": "code",
   "execution_count": 1,
   "metadata": {},
   "outputs": [],
   "source": [
    "# exercise 4.32\n",
    "def censor(filename):\n",
    "    infile = open(filename,'r')\n",
    "    content = infile.read()\n",
    "    wordlist = content.split()\n",
    "    newfile = []\n",
    "    for i in wordlist:\n",
    "        if len(i) ==4:\n",
    "            newfile.append(\"xxxx \")\n",
    "        else:\n",
    "            newfile.append(i)\n",
    "            newfile.append(\" \")\n",
    "    outfile = open(\"censor.txt\",\"w+\")\n",
    "    for i in newfile:\n",
    "        outfile.write(i)\n",
    "censor(\"example.txt\")"
   ]
  },
  {
   "cell_type": "code",
   "execution_count": null,
   "metadata": {},
   "outputs": [],
   "source": []
  }
 ],
 "metadata": {
  "kernelspec": {
   "display_name": "Python 3",
   "language": "python",
   "name": "python3"
  },
  "language_info": {
   "codemirror_mode": {
    "name": "ipython",
    "version": 3
   },
   "file_extension": ".py",
   "mimetype": "text/x-python",
   "name": "python",
   "nbconvert_exporter": "python",
   "pygments_lexer": "ipython3",
   "version": "3.7.4"
  }
 },
 "nbformat": 4,
 "nbformat_minor": 2
}
